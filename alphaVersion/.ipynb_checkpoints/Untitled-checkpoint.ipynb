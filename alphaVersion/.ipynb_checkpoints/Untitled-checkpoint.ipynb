{
 "cells": [
  {
   "cell_type": "code",
   "execution_count": 10,
   "id": "0077a680",
   "metadata": {},
   "outputs": [],
   "source": [
    "#open the list of files and store as a list with the same name\n",
    "lof    = open(\"listOfFiles\", \"r\") #open the file in Read mode\n",
    "files  = lof.read()               #read the file\n",
    "listOfFiles = files.split(\"\\n\")   #make a list and separate it at each Newline\n",
    "listOfFiles.remove('')            #an empty element is build in the end, this eliminates it\n",
    "lof.close()\n",
    "\n",
    "import numpy as np               #we need numpy to manage arrays\n",
    "from scipy.spatial import Voronoi, voronoi_plot_2d #package to do voronoi figures\n",
    "import matplotlib.pyplot as plt  #package to plot\n",
    "\n",
    "for file in listOfFiles: #loop through the elements of lof\n",
    "    points = np.genfromtxt(file) #save the positions form the file-th file on an array\n",
    "    vor = Voronoi(points)        #call the voronoi package\n",
    "    fig = voronoi_plot_2d(vor)   #call the 2d voronoi plotter function\n",
    "    filepng = file+'.png'        #make a name for the figures\n",
    "    filepng = filepng.replace(\"library\", \"gallery\") #replace the directory from library to gallery on the names\n",
    "    plt.savefig(filepng)         #save the figure as\n",
    "    plt.close()"
   ]
  }
 ],
 "metadata": {
  "kernelspec": {
   "display_name": "Python 3 (ipykernel)",
   "language": "python",
   "name": "python3"
  },
  "language_info": {
   "codemirror_mode": {
    "name": "ipython",
    "version": 3
   },
   "file_extension": ".py",
   "mimetype": "text/x-python",
   "name": "python",
   "nbconvert_exporter": "python",
   "pygments_lexer": "ipython3",
   "version": "3.11.3"
  }
 },
 "nbformat": 4,
 "nbformat_minor": 5
}
